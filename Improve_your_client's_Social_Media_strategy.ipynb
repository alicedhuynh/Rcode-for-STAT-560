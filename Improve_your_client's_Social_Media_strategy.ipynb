{
  "nbformat": 4,
  "nbformat_minor": 0,
  "metadata": {
    "colab": {
      "provenance": [],
      "toc_visible": true,
      "include_colab_link": true
    },
    "kernelspec": {
      "name": "python3",
      "display_name": "Python 3"
    },
    "language_info": {
      "name": "python"
    }
  },
  "cells": [
    {
      "cell_type": "markdown",
      "metadata": {
        "id": "view-in-github",
        "colab_type": "text"
      },
      "source": [
        "<a href=\"https://colab.research.google.com/github/alicedhuynh/Rcode-for-STAT-560/blob/master/Improve_your_client's_Social_Media_strategy.ipynb\" target=\"_parent\"><img src=\"https://colab.research.google.com/assets/colab-badge.svg\" alt=\"Open In Colab\"/></a>"
      ]
    },
    {
      "cell_type": "markdown",
      "source": [
        "# <center> Business Questions </center>\n",
        "\n",
        "##Introduction\n",
        "\n",
        "This file is a series of 16 questions that will allow you to answer business problems.\n"
      ],
      "metadata": {
        "id": "UB1RNyP_SLff"
      }
    },
    {
      "cell_type": "markdown",
      "source": [
        "Load data from Google Drive"
      ],
      "metadata": {
        "id": "yLbM49lkt68c"
      }
    },
    {
      "cell_type": "code",
      "source": [
        "import pandas as pd\n",
        "from google.colab import drive\n",
        "drive.mount('/content/drive')\n",
        "GlobalPage = pd.read_csv('/content/drive/My Drive/openclassrooms/data/GlobalPage.csv')\n",
        "FansPerCountry = pd.read_csv('/content/drive/My Drive/openclassrooms/data/FansPerCountry.csv')\n",
        "FansPerGenderAge = pd.read_csv('/content/drive/My Drive/openclassrooms/data/FansPerGenderAge.csv')\n",
        "PostInsights = pd.read_csv('/content/drive/My Drive/openclassrooms/data/PostInsights.csv')\n",
        "FansPerLanguage = pd.read_csv('/content/drive/My Drive/openclassrooms/data/FansPerLanguage.csv')\n",
        "PopStats = pd.read_csv('/content/drive/My Drive/openclassrooms/data/PopStats.csv')\n",
        "FansPerCity = pd.read_csv('/content/drive/My Drive/openclassrooms/data/FansPerCity.csv')\n"
      ],
      "metadata": {
        "colab": {
          "base_uri": "https://localhost:8080/"
        },
        "id": "MeeV-DeLoCDM",
        "outputId": "7c43a797-738f-4df2-9e9a-c52917c51365"
      },
      "execution_count": 1,
      "outputs": [
        {
          "output_type": "stream",
          "name": "stdout",
          "text": [
            "Drive already mounted at /content/drive; to attempt to forcibly remount, call drive.mount(\"/content/drive\", force_remount=True).\n"
          ]
        }
      ]
    },
    {
      "cell_type": "markdown",
      "source": [
        "Convert csv to database"
      ],
      "metadata": {
        "id": "7fcjXADZuA8H"
      }
    },
    {
      "cell_type": "code",
      "source": [
        "import pandas as pd\n",
        "import sqlite3\n",
        "from sqlite3 import Error\n",
        "\n",
        "# make a sql file\n",
        "db_file = 'Huynh_Alice_1_database_122023.sql'\n",
        "conn = sqlite3.connect(db_file)\n",
        "print(f\"Connected to database: {db_file}\")\n",
        "\n",
        "# Write the data to a sqlite tables\n",
        "\n",
        "GlobalPage.to_sql('GlobalPage', conn, if_exists='replace', index=False)\n",
        "FansPerCountry.to_sql('FansPerCountry', conn, if_exists='replace', index=False)\n",
        "FansPerGenderAge.to_sql('FansPerGenderAge', conn, if_exists='replace', index=False)\n",
        "PostInsights.to_sql('PostInsights', conn, if_exists='replace', index=False)\n",
        "FansPerLanguage.to_sql('FansPerLanguage', conn, if_exists='replace', index=False)\n",
        "PopStats.to_sql('PopStats', conn, if_exists='replace', index=False)\n",
        "FansPerCity.to_sql('FansPerCity', conn, if_exists='replace', index=False)\n"
      ],
      "metadata": {
        "colab": {
          "base_uri": "https://localhost:8080/"
        },
        "id": "kWo5MCA7qsRN",
        "outputId": "4bd6224b-a862-4860-9e18-002150f36058"
      },
      "execution_count": 3,
      "outputs": [
        {
          "output_type": "stream",
          "name": "stdout",
          "text": [
            "Connected to database: Huynh_Alice_1_database_122023.sql\n"
          ]
        },
        {
          "output_type": "execute_result",
          "data": {
            "text/plain": [
              "1260"
            ]
          },
          "metadata": {},
          "execution_count": 3
        }
      ]
    },
    {
      "cell_type": "code",
      "source": [
        "# show first 5 rows for each dataframe\n",
        "tables = [\"GlobalPage\",\"FansPerCountry\",\"FansPerGenderAge\",\\\n",
        "          \"PostInsights\",\"FansPerLanguage\",\"PopStats\",\"FansPerCity\"]\n",
        "for table in tables:\n",
        "    df = pd.read_sql_query(f\"SELECT * FROM {table} limit 5\", conn)\n",
        "    print(f\"==={table}===\")\n",
        "    print(df)\n"
      ],
      "metadata": {
        "colab": {
          "base_uri": "https://localhost:8080/"
        },
        "id": "INIu4a3pskIc",
        "outputId": "08803f18-eede-4091-a080-3f7d0f0c7ff5"
      },
      "execution_count": 4,
      "outputs": [
        {
          "output_type": "stream",
          "name": "stdout",
          "text": [
            "===GlobalPage===\n",
            "         Date CountryCode  NewLikes  DailyPostsReach  DailyPostShares  \\\n",
            "0  2018-09-19          AO      2458           512012           338773   \n",
            "1  2018-09-19          BE      4319           899695           595285   \n",
            "2  2018-09-19          BF     18130          3776513          2498736   \n",
            "3  2018-09-19          BI      1330           277229           183429   \n",
            "4  2018-09-19          BJ      5660          1179116           780164   \n",
            "\n",
            "   DailyPageActions  DailyPostImpressions  \n",
            "0             15910               1919541  \n",
            "1             27958               3372971  \n",
            "2            117355              14158199  \n",
            "3              8614               1039337  \n",
            "4             36641               4420523  \n",
            "===FansPerCountry===\n",
            "         Date CountryCode  NumberOfFans\n",
            "0  2018-09-19          AO          5609\n",
            "1  2018-09-19          BE          9856\n",
            "2  2018-09-19          BF         41371\n",
            "3  2018-09-19          BI          3037\n",
            "4  2018-09-19          BJ         12917\n",
            "===FansPerGenderAge===\n",
            "         Date Gender AgeGroup  NumberOfFans\n",
            "0  2018-09-19      F    13-17         12544\n",
            "1  2018-09-19      F    18-24        116305\n",
            "2  2018-09-19      F    25-34        184532\n",
            "3  2018-09-19      F    35-44         96888\n",
            "4  2018-09-19      F    45-54         48730\n",
            "===PostInsights===\n",
            "           CreatedTime  EngagedFans  Impressions  NegativeFeedback  \\\n",
            "0  2018-01-10 05:15:00         3201       171185                 9   \n",
            "1  2018-01-10 11:30:00         1068        58241                 1   \n",
            "2  2018-02-10 05:15:00         3887       228501                 6   \n",
            "3  2018-02-10 05:30:00         1711        93475                 4   \n",
            "4  2018-02-10 16:00:00         6295       404263                 6   \n",
            "\n",
            "   NonViralimpressions  NonViralReach  PostActivity  PostActivityUnique  \\\n",
            "0                58411          42800          5824                4775   \n",
            "1                32603          24165          1461                1236   \n",
            "2                70256          50517          7242                5901   \n",
            "3                40683          29170          2600                2082   \n",
            "4               116517          83866         13302               10497   \n",
            "\n",
            "   PostClicks  UniquePostClicks  PostReactionsAnger  PostReactionsHaHa  \\\n",
            "0        2990              2609                   3                  1   \n",
            "1         904               817                   0                  1   \n",
            "2        6107              5159                   0                  5   \n",
            "3        1707              1524                   0                  3   \n",
            "4        9427              8015                   0                 14   \n",
            "\n",
            "   PostReactionsLike  PostReactionsLove  PostReactionsSorry  PostReactionsWow  \\\n",
            "0               3805                116                   2                 0   \n",
            "1                952                 46                   3                 1   \n",
            "2               4718                148                   0                 1   \n",
            "3               1580                 50                   0                 2   \n",
            "4               8763                364                   8                 3   \n",
            "\n",
            "    Reach  \n",
            "0  123160  \n",
            "1   41653  \n",
            "2  163863  \n",
            "3   65171  \n",
            "4  274118  \n",
            "===FansPerLanguage===\n",
            "         Date Language CountryCode  NumberOfFans\n",
            "0  2018-09-19       af          ZA            17\n",
            "1  2018-09-19       ar          AR          4456\n",
            "2  2018-09-19       az          AZ            18\n",
            "3  2018-09-19       bg          BG            20\n",
            "4  2018-09-19       bn          IN            36\n",
            "===PopStats===\n",
            "  CountryCode                       CountryName  Population  AverageIncome\n",
            "0          BF                      Burkino Faso    19190000         1900.0\n",
            "1          CD  Democratic Republic of the Congo    81340000          394.0\n",
            "2          CF          Central African Republic     4659999          547.0\n",
            "3          CG             Republic of the Congo     5261000          751.0\n",
            "4          CI                       Ivory Coast    24290000         1770.0\n",
            "===FansPerCity===\n",
            "        Date          City CountryCode  NumberOfFans\n",
            "0  9/19/2018       Abidjan          CI         85759\n",
            "1  9/19/2018         Alger          DZ         10917\n",
            "2  9/19/2018  Antananarivo          MG         38085\n",
            "3  9/19/2018        Bamako          ML         31353\n",
            "4  9/19/2018        Bangui          CF          4349\n"
          ]
        }
      ]
    },
    {
      "cell_type": "markdown",
      "source": [
        "Write SQL query"
      ],
      "metadata": {
        "id": "ToIm189HuHGi"
      }
    },
    {
      "cell_type": "code",
      "source": [
        "def run_query(query):\n",
        "    \"function to write a query \"\n",
        "    df = pd.read_sql_query(f\"{query}\", conn)\n",
        "    print(df)\n"
      ],
      "metadata": {
        "id": "E-FaXGBCrqzu"
      },
      "execution_count": 5,
      "outputs": []
    },
    {
      "cell_type": "markdown",
      "source": [
        "##Section 1: Basic Summary Statistics"
      ],
      "metadata": {
        "id": "faWCwdoYFbhn"
      }
    },
    {
      "cell_type": "markdown",
      "source": [
        "### Question 1: Unique Countries\n",
        "How many unique countries are there?\n"
      ],
      "metadata": {
        "id": "MqQoC_W3R8n6"
      }
    },
    {
      "cell_type": "code",
      "source": [
        "unique_countries = '''\n",
        "SELECT count(distinct CountryName)\n",
        "FROM PopStats;\n",
        "'''\n",
        "run_query(unique_countries)"
      ],
      "metadata": {
        "colab": {
          "base_uri": "https://localhost:8080/"
        },
        "id": "Xzdnz0Qdts1o",
        "outputId": "1f7b419a-ca94-41a0-81fa-a8294268b171"
      },
      "execution_count": 8,
      "outputs": [
        {
          "output_type": "stream",
          "name": "stdout",
          "text": [
            "   count(distinct CountryName)\n",
            "0                          150\n"
          ]
        }
      ]
    },
    {
      "cell_type": "markdown",
      "source": [
        "### Question 2: Unique Cities\n",
        "How many unique cities are there?"
      ],
      "metadata": {
        "id": "pAF5cj9aTU0w"
      }
    },
    {
      "cell_type": "code",
      "source": [
        "unique_cities = '''\n",
        "SELECT count(distinct City)\n",
        "FROM FansPerCity;\n",
        "'''\n",
        "run_query(unique_cities)"
      ],
      "metadata": {
        "id": "dL6a2iPlt1nE",
        "outputId": "8c3d85c8-d14f-45b3-8c64-41a66972cbdd",
        "colab": {
          "base_uri": "https://localhost:8080/"
        }
      },
      "execution_count": 9,
      "outputs": [
        {
          "output_type": "stream",
          "name": "stdout",
          "text": [
            "   count(distinct City)\n",
            "0                    46\n"
          ]
        }
      ]
    },
    {
      "cell_type": "markdown",
      "source": [
        "### Question 3: Unique Languages\n",
        "How many unique languages are there?"
      ],
      "metadata": {
        "id": "d65CDlZgTdto"
      }
    },
    {
      "cell_type": "code",
      "source": [
        "unique_languages = '''\n",
        "SELECT count(distinct Language)\n",
        "FROM FansPerLanguage;\n",
        "'''\n",
        "run_query(unique_languages)"
      ],
      "metadata": {
        "id": "PD855mYHQl1A",
        "outputId": "8ea9b05d-7ced-40ee-ccba-a39b7e8f6f89",
        "colab": {
          "base_uri": "https://localhost:8080/"
        }
      },
      "execution_count": 10,
      "outputs": [
        {
          "output_type": "stream",
          "name": "stdout",
          "text": [
            "   count(distinct Language)\n",
            "0                        41\n"
          ]
        }
      ]
    },
    {
      "cell_type": "markdown",
      "source": [
        "### Question 4: Global Page Reach\n",
        "What is the daily average reach of the posts (i.e. DailyPostsReach) on the global page over the period?\n"
      ],
      "metadata": {
        "id": "9e5dHx4yVzY9"
      }
    },
    {
      "cell_type": "code",
      "source": [
        "globalpagereach = '''\n",
        "SELECT AVG(DailyPostsReach)\n",
        "FROM GlobalPage;\n",
        "'''\n",
        "run_query(globalpagereach)"
      ],
      "metadata": {
        "colab": {
          "base_uri": "https://localhost:8080/"
        },
        "id": "Y2L7WUGuS5ll",
        "outputId": "10d41add-a672-48c4-f373-8107c89f3584"
      },
      "execution_count": 11,
      "outputs": [
        {
          "output_type": "stream",
          "name": "stdout",
          "text": [
            "   AVG(DailyPostsReach)\n",
            "0          1.862816e+06\n"
          ]
        }
      ]
    },
    {
      "cell_type": "markdown",
      "source": [
        "### Question 5: Global Page Likes\n",
        "What is the daily average engagement rate (i.e. NewLikes) on the global page over the period?  Round the result to 2 decimal places.\n"
      ],
      "metadata": {
        "id": "_GXRR4VSV_VG"
      }
    },
    {
      "cell_type": "code",
      "source": [
        "globalpagelike = '''\n",
        "SELECT round(AVG(NewLikes),2)\n",
        "FROM GlobalPage;\n",
        "'''\n",
        "run_query(globalpagelike)\n"
      ],
      "metadata": {
        "id": "LZ-EEBQvTHaU"
      },
      "execution_count": null,
      "outputs": []
    },
    {
      "cell_type": "markdown",
      "source": [
        "## Section 2: Location Analysis\n",
        "In these queries, make sure you select the latest date in the main table.  E.g:\n",
        "\n",
        "SELECT max(date) from FansPerCountry\n",
        "\n",
        "Then use the result of this in the WHERE clause of your main query.\n",
        "\n",
        "\n"
      ],
      "metadata": {
        "id": "VUdqM0cba3QF"
      }
    },
    {
      "cell_type": "markdown",
      "source": [
        "### Question 6: Top 10 countries by Number of Fans\n",
        "What are the top 10 countries (considering the number of fans)?  Show a table of results containing the following columns:\n",
        "\n",
        "*   CountryCode\n",
        "*   CountryName   \n",
        "*   NumberOfFans"
      ],
      "metadata": {
        "id": "ZRgFNQjEWbXf"
      }
    },
    {
      "cell_type": "code",
      "source": [
        "Q6 = '''\n",
        "SELECT t1.CountryCode, t2.CountryName, t1.NumberOfFans\n",
        "FROM FansPerCountry t1\n",
        "JOIN PopStats t2\n",
        "ON t1.CountryCode = t2.CountryCode\n",
        "WHERE DATE = (SELECT max(date) from FansPerCountry)\n",
        "ORDER BY t1.NumberOfFans DESC\n",
        "LIMIT 10\n",
        "'''\n",
        "run_query(Q6)\n"
      ],
      "metadata": {
        "id": "O_71396aUAFm",
        "colab": {
          "base_uri": "https://localhost:8080/"
        },
        "outputId": "ee9ac137-a440-4d2d-c5c3-351fe894018d"
      },
      "execution_count": 12,
      "outputs": [
        {
          "output_type": "stream",
          "name": "stdout",
          "text": [
            "  CountryCode                       CountryName  NumberOfFans\n",
            "0          CI                       Ivory Coast        112160\n",
            "1          CM                          Cameroon        102211\n",
            "2          SN                           Senegal         83561\n",
            "3          FR                            France         73252\n",
            "4          MG                        Madagascar         72956\n",
            "5          CD  Democratic Republic of the Congo         50705\n",
            "6          BF                      Burkino Faso         43500\n",
            "7          ML                              Mali         40578\n",
            "8          DZ                           Algeria         39093\n",
            "9          GN                            Guinea         36821\n"
          ]
        }
      ]
    },
    {
      "cell_type": "markdown",
      "source": [
        "### Question 7: Top 10 countries by Penetration Ratio\n",
        "What are the top 10 countries by penetration ratio (i.e. the % of the country population that are fans)?  Show a table of results containing the following columns:\n",
        "\n",
        "* CountryName\n",
        "* PenetrationRatio\n",
        "* NumberOfFans\n",
        "* Population\n"
      ],
      "metadata": {
        "id": "_gKjWq-UW3bE"
      }
    },
    {
      "cell_type": "code",
      "source": [
        "Q7 = '''\n",
        "SELECT\n",
        "  t2.CountryName, ROUND(t1.NumberOfFans*100.0/t2.Population, 2) || ' %' as PenetrationRatio,\n",
        "  t1.NumberOfFans, t2.Population\n",
        "FROM FansPerCountry t1\n",
        "JOIN PopStats t2 ON t1.CountryCode = t2.CountryCode\n",
        "WHERE Date = (SELECT MAX(Date) FROM FansPerCountry)\n",
        "ORDER BY PenetrationRatio DESC\n",
        "LIMIT 10\n",
        "\n",
        "'''\n",
        "run_query(Q7)\n"
      ],
      "metadata": {
        "id": "d3uWekLejqBc",
        "colab": {
          "base_uri": "https://localhost:8080/"
        },
        "outputId": "63ae2d91-b621-43e0-e014-c83282bd24e2"
      },
      "execution_count": 13,
      "outputs": [
        {
          "output_type": "stream",
          "name": "stdout",
          "text": [
            "        CountryName PenetrationRatio  NumberOfFans  Population\n",
            "0           Reunion           2.41 %         20885      866506\n",
            "1  French Polynesia           1.82 %          5148      283007\n",
            "2     New Caledonia           1.79 %          5032      280460\n",
            "3         Mauritius           1.77 %         24210     1364283\n",
            "4        Martinique           1.44 %          5427      376480\n",
            "5        Guadeloupe           1.36 %          5379      395700\n",
            "6             Gabon           1.13 %         23954     2119036\n",
            "7           Mayotte           0.73 %          1983      270372\n",
            "8           Comoros            0.6 %          4925      821164\n",
            "9     French Guiana           0.57 %          1687      296711\n"
          ]
        }
      ]
    },
    {
      "cell_type": "markdown",
      "source": [
        "### Question 8: Bottom 10 Cities by Number of Fans\n",
        "What are the bottom 10 cities (considering the number of fans) among countries with a population over 20 million?\n",
        "\n",
        "This could be considered our growth potential.\n",
        "\n",
        "Show a table of results containing the following columns:\n",
        "\n",
        "* CountryName\n",
        "* City\n",
        "* NumberOfFans\n",
        "* Population\n"
      ],
      "metadata": {
        "id": "tBJBOwTSXXtk"
      }
    },
    {
      "cell_type": "code",
      "source": [
        "Q8 = '''\n",
        "SELECT t2.CountryName, t1.City, NumberOfFans, Population\n",
        "FROM FansPerCity t1\n",
        "JOIN PopStats t2\n",
        "ON t1.CountryCode = t2.CountryCode\n",
        "WHERE t1.Date = (SELECT MAX(Date) FROM FansPerCity) AND t2.Population > 20000000\n",
        "ORDER BY NumberOfFans\n",
        "LIMIT 10\n",
        "'''\n",
        "run_query(Q8)\n"
      ],
      "metadata": {
        "colab": {
          "base_uri": "https://localhost:8080/"
        },
        "outputId": "b7a84052-0424-47c7-d16d-8e67875b1637",
        "id": "Cceno3vnhYgs"
      },
      "execution_count": 14,
      "outputs": [
        {
          "output_type": "stream",
          "name": "stdout",
          "text": [
            "   CountryName          City  NumberOfFans  Population\n",
            "0      Algeria        Bejaia          2301    41657488\n",
            "1     Cameroon    Ngaoundere          2318    25640965\n",
            "2   Madagascar  Fianarantsoa          2366    25683610\n",
            "3      Algeria    Tizi Ouzou          2524    41657488\n",
            "4       Canada      Montreal          2887    35881659\n",
            "5      Algeria          Oran          2920    41657488\n",
            "6  Ivory Coast       Bouake           3376    24290000\n",
            "7  Ivory Coast        Cocody          3647    24290000\n",
            "8      Morocco    Casablanca          3951    34314130\n",
            "9       Angola        Luanda          4614    30355880\n"
          ]
        }
      ]
    },
    {
      "cell_type": "markdown",
      "source": [
        "## Section 3: Fan Analysis\n"
      ],
      "metadata": {
        "id": "8SLSmSG1111w"
      }
    },
    {
      "cell_type": "markdown",
      "source": [
        "### Question 9: Analysis by age group (split of fans)\n",
        "What is the split of page fans across age groups (in %)?\n",
        "\n",
        "Show a table of results containing the following columns:\n"
      ],
      "metadata": {
        "id": "hFL6z08yXvp6"
      }
    },
    {
      "cell_type": "code",
      "source": [
        "Q9 = '''\n",
        "SELECT AgeGroup, round(sum(NumberOfFans)*100/\n",
        "\t(\n",
        "\t\tSELECT SUM(NumberofFans)\n",
        "\t\tFROM FansPerGenderAge\n",
        "\t\tWHERE Date = (SELECT MAX(Date) FROM FansPerGenderAge)\n",
        "\t)\n",
        "\t\t, 2) || ' %' AS PercentageOfFans\n",
        "FROM FansPerGenderAge\n",
        "WHERE Date = (SELECT MAX(Date) FROM FansPerGenderAge)\n",
        "GROUP BY AgeGroup\n",
        "'''\n",
        "run_query(Q9)"
      ],
      "metadata": {
        "colab": {
          "base_uri": "https://localhost:8080/"
        },
        "id": "Ixc8rY_jkSNm",
        "outputId": "6d8b1ee9-a333-48f2-93ff-76c4c6fec2f4"
      },
      "execution_count": 15,
      "outputs": [
        {
          "output_type": "stream",
          "name": "stdout",
          "text": [
            "  AgeGroup PercentageOfFans\n",
            "0    13-17            2.0 %\n",
            "1    18-24           21.0 %\n",
            "2    25-34           35.0 %\n",
            "3    35-44           19.0 %\n",
            "4    45-54            9.0 %\n",
            "5    55-64            5.0 %\n",
            "6      65+            6.0 %\n"
          ]
        }
      ]
    },
    {
      "cell_type": "markdown",
      "source": [
        "### Question 10: Analysis by gender (split of fans)\n",
        "What is the split of page fans by gender (in %)?\n",
        "\n",
        "Show a table of results containing the following columns:\n",
        "\n",
        "* Gender\n",
        "* PercentageOfFans\n"
      ],
      "metadata": {
        "id": "d79CFLFOX9r4"
      }
    },
    {
      "cell_type": "code",
      "source": [
        "Q10 ='''\n",
        "SELECT Gender, ROUND ((SUM(NumberOfFans)*100.0/\n",
        "  (\n",
        "    SELECT SUM(NumberOfFans)\n",
        "    FROM FansPerGenderAge\n",
        "\tWHERE Date = (SELECT MAX(Date) FROM FansPerGenderAge)\n",
        "  )\n",
        "), 2) || ' %' AS PercentageOfFans\n",
        "FROM FansPerGenderAge\n",
        "WHERE Date = (SELECT MAX(Date) FROM FansPerGenderAge)\n",
        "GROUP BY Gender\n",
        "'''\n",
        "run_query(Q10)"
      ],
      "metadata": {
        "colab": {
          "base_uri": "https://localhost:8080/"
        },
        "id": "K_icbk7qO41K",
        "outputId": "3f1fe6f4-0d01-4818-a29e-8b20355cfe3a"
      },
      "execution_count": 16,
      "outputs": [
        {
          "output_type": "stream",
          "name": "stdout",
          "text": [
            "  Gender PercentageOfFans\n",
            "0      F          56.41 %\n",
            "1      M           43.5 %\n",
            "2      U           0.09 %\n"
          ]
        }
      ]
    },
    {
      "cell_type": "markdown",
      "source": [
        "## Section 4: Language Analysis\n"
      ],
      "metadata": {
        "id": "d1ZRtG5d2HeH"
      }
    },
    {
      "cell_type": "markdown",
      "source": [
        "### Question 11: English Speaking Fans\n",
        "What is the number of the fans that have declared English as their primary language ?\n"
      ],
      "metadata": {
        "id": "P6CM-U7wYPQM"
      }
    },
    {
      "cell_type": "code",
      "source": [
        "Q11 = '''\n",
        "SELECT SUM(NumberOfFans)\n",
        "FROM FansPerLanguage\n",
        "WHERE DATE = (SELECT max(Date) from FansPerCountry) and Language = 'en'\n",
        "'''\n",
        "run_query(Q11)"
      ],
      "metadata": {
        "id": "w6puiIlt2QgV",
        "colab": {
          "base_uri": "https://localhost:8080/"
        },
        "outputId": "77ddf976-5bc3-45dd-ca6a-43fc3ef0a574"
      },
      "execution_count": 17,
      "outputs": [
        {
          "output_type": "stream",
          "name": "stdout",
          "text": [
            "   SUM(NumberOfFans)\n",
            "0              49418\n"
          ]
        }
      ]
    },
    {
      "cell_type": "markdown",
      "source": [
        "### Question 12: English Speaking Fans Percentage\n",
        "\n",
        "What is the percentage of the fans that have declared English as their primary language?\n"
      ],
      "metadata": {
        "id": "dERMslJJYXDo"
      }
    },
    {
      "cell_type": "code",
      "source": [
        "Q12 ='''\n",
        "SELECT round((sum(NumberOfFans)*100.0/\n",
        "  (\n",
        "    SELECT sum(NumberOfFans)\n",
        "    FROM FansPerLanguage\n",
        "\tWHERE Date = (SELECT MAX(Date) FROM FansPerLanguage)\n",
        "  )\n",
        "), 2) || ' %' AS Percentage\n",
        "FROM FansPerLanguage\n",
        "WHERE Language = 'en' and Date = (SELECT Max(Date) From FansPerLanguage)\n",
        "'''\n",
        "run_query(Q12)"
      ],
      "metadata": {
        "colab": {
          "base_uri": "https://localhost:8080/"
        },
        "id": "cJxopVZf98D5",
        "outputId": "872aeaf5-d088-4ade-dfbf-d28456c4c861"
      },
      "execution_count": 18,
      "outputs": [
        {
          "output_type": "stream",
          "name": "stdout",
          "text": [
            "  Percentage\n",
            "0     5.09 %\n"
          ]
        }
      ]
    },
    {
      "cell_type": "markdown",
      "source": [
        "### Question 13: Buying Power of English Speakers\n",
        "Based on the number of fans who have declared English as their primary language and living in the US, what is the potential buying\n",
        "power that can be accessed? (Please use the average income data per country for this question. It is estimated that on average,\n",
        "0.01% of the annual income is dedicated to online magazine subscriptions in the US).\n"
      ],
      "metadata": {
        "id": "iFqAmU4oYjoC"
      }
    },
    {
      "cell_type": "code",
      "source": [
        "Q13 = '''\n",
        "SELECT Language, '$ ' || ROUND(.0001*AverageIncome*numberoffans, 2) AS PotentialBuying\n",
        "FROM FansPerLanguage t1\n",
        "JOIN PopStats t2\n",
        "ON t1.CountryCode = t2.CountryCode\n",
        "WHERE CountryName = 'United states' AND t1.Date =(SELECT Max(Date) From FansPerLanguage)\n",
        "GROUP BY Language\n",
        "'''\n",
        "run_query(Q13)"
      ],
      "metadata": {
        "id": "aXmj1KsGAlh0",
        "colab": {
          "base_uri": "https://localhost:8080/"
        },
        "outputId": "24f1b325-dba6-4ba7-a0e4-22fbc14cdcf1"
      },
      "execution_count": 19,
      "outputs": [
        {
          "output_type": "stream",
          "name": "stdout",
          "text": [
            "  Language PotentialBuying\n",
            "0       en     $ 200322.75\n"
          ]
        }
      ]
    },
    {
      "cell_type": "markdown",
      "source": [
        "## Section 5: Fan Engagment\n"
      ],
      "metadata": {
        "id": "Szq0cACh2UL0"
      }
    },
    {
      "cell_type": "markdown",
      "source": [
        "### Question 14: Engagement per day of the week\n",
        "What is the split of the EngagedFans across the days of the week (monday, tuesday,...)?\n",
        "\n",
        "Give the result as a table with the following columns:\n",
        "\n",
        "* DayOfWeek\n",
        "* PercentageSplit\n",
        "\n",
        "Based on the results, what is the best day of the week to publish posts?\n",
        "\n",
        "Saturday would be the best week to publish.\n"
      ],
      "metadata": {
        "id": "RNXj3NOSYwhQ"
      }
    },
    {
      "cell_type": "code",
      "source": [
        "Q14 = '''\n",
        "SELECT\n",
        "  CASE strftime('%w', CreatedTime)\n",
        "    WHEN '0' THEN 'Sunday'\n",
        "    WHEN '1' THEN 'Monday'\n",
        "    WHEN '2' THEN 'Tuesday'\n",
        "    WHEN '3' THEN 'Wednesday'\n",
        "    WHEN '4' THEN 'Thursday'\n",
        "    WHEN '5' THEN 'Friday'\n",
        "    WHEN '6' THEN 'Saturday'\n",
        "  END AS  DayOfWeek,\n",
        "  ROUND\n",
        "  (\n",
        "    SUM(EngagedFans)*100.0/\n",
        "    (\n",
        "    SELECT SUM(EngagedFans)\n",
        "    FROM PostInsights\n",
        "    ),2\n",
        "  ) || ' %' AS PercentageSplit\n",
        "FROM PostInsights\n",
        "GROUP BY DayOfWeek\n",
        "ORDER BY\n",
        "  CASE DayOfWeek\n",
        "   WHEN 'Sunday' THEN 0\n",
        "   WHEN 'Monday' THEN 1\n",
        "   WHEN 'Tuesday' THEN 2\n",
        "   WHEN 'Wednesday' THEN 3\n",
        "   WHEN 'Thursday' THEN 4\n",
        "   WHEN 'Friday' THEN 5\n",
        "   WHEN 'Saturday' THEN 6\n",
        "  END\n",
        "'''\n",
        "run_query(Q14)\n"
      ],
      "metadata": {
        "colab": {
          "base_uri": "https://localhost:8080/"
        },
        "outputId": "e4a29658-fcb4-478f-9791-99dc1809af1d",
        "id": "Sqw8vEfW3CFA"
      },
      "execution_count": null,
      "outputs": [
        {
          "output_type": "stream",
          "name": "stdout",
          "text": [
            "   DayOfWeek PercentageSplit\n",
            "0     Sunday         12.08 %\n",
            "1     Monday         19.23 %\n",
            "2    Tuesday         18.67 %\n",
            "3  Wednesday         15.38 %\n",
            "4   Thursday          6.32 %\n",
            "5     Friday          8.59 %\n",
            "6   Saturday         19.73 %\n"
          ]
        }
      ]
    },
    {
      "cell_type": "code",
      "source": [
        "Q15 ='''\n",
        "SELECT\n",
        "  CASE\n",
        "    WHEN strftime('%H:%M', CreatedTime) BETWEEN '05:00' AND '08:59' THEN '05:00 - 08:59'\n",
        "    WHEN strftime('%H:%M', CreatedTime) BETWEEN '09:00' AND '11:59' THEN '09:00 - 11:59'\n",
        "    WHEN strftime('%H:%M', CreatedTime) BETWEEN '12:00' AND '14:59' THEN '12:00 - 14:59'\n",
        "    WHEN strftime('%H:%M', CreatedTime) BETWEEN '15:00' AND '18:59' THEN '15:00 - 18:59'\n",
        "    WHEN strftime('%H:%M', CreatedTime) BETWEEN '19:00' AND '21:59' THEN '19:00 - 21:59'\n",
        "   ELSE '22:00 or later'\n",
        "    END AS TimeRange,\n",
        "    ROUND\n",
        "    (\n",
        "      SUM(EngagedFans)*100.0/\n",
        "      (\n",
        "        SELECT SUM(EngagedFans)\n",
        "        FROM PostInsights\n",
        "      ), 2\n",
        "     ) || ' %' AS Percentage\n",
        "\n",
        "FROM PostInsights\n",
        "GROUP BY TimeRange\n",
        "'''\n",
        "run_query(Q15)"
      ],
      "metadata": {
        "colab": {
          "base_uri": "https://localhost:8080/"
        },
        "outputId": "3875f3c9-2abf-4a17-e066-1ed8fa1ea85f",
        "id": "BY1Xuh_yFL1U"
      },
      "execution_count": null,
      "outputs": [
        {
          "output_type": "stream",
          "name": "stdout",
          "text": [
            "        TimeRange Percentage\n",
            "0   05:00 - 08:59    33.96 %\n",
            "1   09:00 - 11:59    15.34 %\n",
            "2   12:00 - 14:59     12.7 %\n",
            "3   15:00 - 18:59     17.4 %\n",
            "4   19:00 - 21:59    13.12 %\n",
            "5  22:00 or later     7.48 %\n"
          ]
        }
      ]
    },
    {
      "cell_type": "markdown",
      "source": [
        "### Question 15: Engagement per time of day\n",
        "What is the split of the EngagedFans by time of the day?  Split the day into the following time ranges (call the column TimeRange):\n",
        "\n",
        "* 05:00 - 08:59\n",
        "* 09:00 - 11:59\n",
        "* 12:00 - 14:59\n",
        "* 15:00 - 18:59\n",
        "* 19:00 - 21:59\n",
        "* 22:00 or later\n",
        "\n",
        "Give the result as a table with the following columns:\n",
        "\n",
        "* TimeRange\n",
        "* Percentage\n",
        "\n",
        "Based on the results, what is the best time of the day to publish posts?\n",
        "\n",
        "The best time to publish posts is morning time from 5:00 to 8:59.\n"
      ],
      "metadata": {
        "id": "IQ_qkU0hZBip"
      }
    },
    {
      "cell_type": "code",
      "source": [
        "  Q15 ='''\n",
        "SELECT\n",
        "  CASE\n",
        "    WHEN strftime('%H:%M', CreatedTime) BETWEEN '05:00' AND '08:59' THEN '05:00 - 08:59'\n",
        "    WHEN strftime('%H:%M', CreatedTime) BETWEEN '09:00' AND '11:59' THEN '09:00 - 11:59'\n",
        "    WHEN strftime('%H:%M', CreatedTime) BETWEEN '12:00' AND '14:59' THEN '12:00 - 14:59'\n",
        "    WHEN strftime('%H:%M', CreatedTime) BETWEEN '15:00' AND '18:59' THEN '15:00 - 18:59'\n",
        "    WHEN strftime('%H:%M', CreatedTime) BETWEEN '19:00' AND '21:59' THEN '19:00 - 21:59'\n",
        "    WHEN strftime('%H:%M', CreatedTime) BETWEEN '22:00' AND '23:59' THEN '22:00 - 23:59'\n",
        "    END AS TimeRange,\n",
        "    ROUND\n",
        "    (\n",
        "      SUM(EngagedFans)*100.0/\n",
        "      (\n",
        "        SELECT SUM(EngagedFans)\n",
        "        FROM PostInsights\n",
        "      ), 2\n",
        "     ) || ' %' AS Percentage\n",
        "\n",
        "FROM PostInsights\n",
        "GROUP BY TimeRange\n",
        "'''\n",
        "run_query(Q15)\n"
      ],
      "metadata": {
        "colab": {
          "base_uri": "https://localhost:8080/"
        },
        "id": "LS5sccwsJ3Xo",
        "outputId": "e87bd125-17aa-4b05-d651-f03c22b269c2"
      },
      "execution_count": null,
      "outputs": [
        {
          "output_type": "stream",
          "name": "stdout",
          "text": [
            "       TimeRange Percentage\n",
            "0  05:00 - 08:59    33.96 %\n",
            "1  09:00 - 11:59    15.34 %\n",
            "2  12:00 - 14:59     12.7 %\n",
            "3  15:00 - 18:59     17.4 %\n",
            "4  19:00 - 21:59    13.12 %\n",
            "5  22:00 - 23:59     7.48 %\n"
          ]
        }
      ]
    },
    {
      "cell_type": "markdown",
      "source": [
        "## Section 6: Optional Challeging Queries"
      ],
      "metadata": {
        "id": "Ix-o05hr2ep3"
      }
    },
    {
      "cell_type": "markdown",
      "source": [
        "### Question 16: Month to month change in engagement\n",
        "Compute the change in PostClicks, EngagedFans and Reach from one month to the next.\n",
        "Give the result as a table with the following columns:\n",
        "\n",
        "* FromMonth\n",
        "* ToMonth\n",
        "* DeltaPostClicks\n",
        "* DeltaEngagedFans\n",
        "* DeltaReach\n",
        "\n",
        "Where the deltas are the percentage differences between a month and its previous month.\n"
      ],
      "metadata": {
        "id": "WutudsO3ZYs5"
      }
    },
    {
      "cell_type": "code",
      "source": [
        "Q16 = '''\n",
        "SELECT  strftime('%m', CreatedTime) as FromMonth,\n",
        "  Lead(strftime('%m', CreatedTime)) OVER (Order by strftime('%m', CreatedTime)) AS ToMonth,\n",
        "  ROUND(SUM(PostClicks)*1.0*100.0 / LEAD(SUM(PostClicks)) OVER (ORDER BY strftime('%m', CreatedTime)) - 1, 2) || '%' AS DeltaPostClicks,\n",
        "  ROUND(SUM(EngagedFans)*1.0*100.0 / LEAD(SUM(EngagedFans)) OVER (ORDER BY strftime('%m', CreatedTime)) - 1, 2) || '%' AS DeltaEngagedFans,\n",
        "  ROUND(SUM(Reach)*100.0 / LEAD(SUM(Reach)) OVER (ORDER BY strftime('%m', CreatedTime)) - 1, 2) || '%' AS DeltaReach\n",
        "FROM PostInsights\n",
        "GROUP BY strftime('%m', CreatedTime)\n",
        "'''\n",
        "run_query(Q16)"
      ],
      "metadata": {
        "colab": {
          "base_uri": "https://localhost:8080/"
        },
        "outputId": "e58f615a-23cd-49e8-aa95-5d766127ad8a",
        "id": "Uj8nLWZ4TCzU"
      },
      "execution_count": null,
      "outputs": [
        {
          "output_type": "stream",
          "name": "stdout",
          "text": [
            "   FromMonth ToMonth DeltaPostClicks DeltaEngagedFans DeltaReach\n",
            "0         01      02          16.74%           24.67%     23.18%\n",
            "1         02      03          11.52%           14.33%     12.71%\n",
            "2         03      04         165.68%          122.72%    145.36%\n",
            "3         04      05          73.21%           87.39%     81.48%\n",
            "4         05      06         113.65%           94.66%      98.7%\n",
            "5         06      07          91.15%          100.26%     97.87%\n",
            "6         07      08          76.63%            84.4%     81.02%\n",
            "7         08      09           71.3%           66.63%     66.53%\n",
            "8         09      10          21.79%           25.25%     21.18%\n",
            "9         10      11         711.03%          638.27%    774.94%\n",
            "10        11      12          96.94%           94.76%     88.62%\n",
            "11        12    None            None             None       None\n"
          ]
        }
      ]
    }
  ]
}